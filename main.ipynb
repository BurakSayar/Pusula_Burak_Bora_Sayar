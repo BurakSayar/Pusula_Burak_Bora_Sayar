{
 "cells": [
  {
   "cell_type": "code",
   "execution_count": 2,
   "metadata": {},
   "outputs": [],
   "source": [
    "import pandas as pd\n",
    "import numpy as np\n",
    "import seaborn as sns\n",
    "import matplotlib.pyplot as plt"
   ]
  },
  {
   "cell_type": "code",
   "execution_count": 3,
   "metadata": {},
   "outputs": [],
   "source": [
    "file_path = \"Talent_Academy_Case_DT_2025.xlsx\"\n",
    "df=pd.read_excel(file_path)"
   ]
  },
  {
   "cell_type": "code",
   "execution_count": 4,
   "metadata": {},
   "outputs": [
    {
     "name": "stdout",
     "output_type": "stream",
     "text": [
      "<class 'pandas.core.frame.DataFrame'>\n",
      "RangeIndex: 2235 entries, 0 to 2234\n",
      "Data columns (total 13 columns):\n",
      " #   Column           Non-Null Count  Dtype \n",
      "---  ------           --------------  ----- \n",
      " 0   HastaNo          2235 non-null   int64 \n",
      " 1   Yas              2235 non-null   int64 \n",
      " 2   Cinsiyet         2066 non-null   object\n",
      " 3   KanGrubu         1560 non-null   object\n",
      " 4   Uyruk            2235 non-null   object\n",
      " 5   KronikHastalik   1624 non-null   object\n",
      " 6   Bolum            2224 non-null   object\n",
      " 7   Alerji           1291 non-null   object\n",
      " 8   Tanilar          2160 non-null   object\n",
      " 9   TedaviAdi        2235 non-null   object\n",
      " 10  TedaviSuresi     2235 non-null   object\n",
      " 11  UygulamaYerleri  2014 non-null   object\n",
      " 12  UygulamaSuresi   2235 non-null   object\n",
      "dtypes: int64(2), object(11)\n",
      "memory usage: 227.1+ KB\n"
     ]
    }
   ],
   "source": [
    "df.info()"
   ]
  },
  {
   "cell_type": "code",
   "execution_count": 5,
   "metadata": {},
   "outputs": [
    {
     "data": {
      "text/html": [
       "<div>\n",
       "<style scoped>\n",
       "    .dataframe tbody tr th:only-of-type {\n",
       "        vertical-align: middle;\n",
       "    }\n",
       "\n",
       "    .dataframe tbody tr th {\n",
       "        vertical-align: top;\n",
       "    }\n",
       "\n",
       "    .dataframe thead th {\n",
       "        text-align: right;\n",
       "    }\n",
       "</style>\n",
       "<table border=\"1\" class=\"dataframe\">\n",
       "  <thead>\n",
       "    <tr style=\"text-align: right;\">\n",
       "      <th></th>\n",
       "      <th>HastaNo</th>\n",
       "      <th>Yas</th>\n",
       "      <th>Cinsiyet</th>\n",
       "      <th>KanGrubu</th>\n",
       "      <th>Uyruk</th>\n",
       "      <th>KronikHastalik</th>\n",
       "      <th>Bolum</th>\n",
       "      <th>Alerji</th>\n",
       "      <th>Tanilar</th>\n",
       "      <th>TedaviAdi</th>\n",
       "      <th>TedaviSuresi</th>\n",
       "      <th>UygulamaYerleri</th>\n",
       "      <th>UygulamaSuresi</th>\n",
       "    </tr>\n",
       "  </thead>\n",
       "  <tbody>\n",
       "    <tr>\n",
       "      <th>0</th>\n",
       "      <td>145134</td>\n",
       "      <td>60</td>\n",
       "      <td>Kadın</td>\n",
       "      <td>0 Rh+</td>\n",
       "      <td>Türkiye</td>\n",
       "      <td>Becker Musküler Distrofisi, Hiportiroidizm, Ka...</td>\n",
       "      <td>Fiziksel Tıp Ve Rehabilitasyon,Solunum Merkezi</td>\n",
       "      <td>TOZ</td>\n",
       "      <td>Ayak bileği ve ayağın yüzeysel yaralanması</td>\n",
       "      <td>Ayak Bileği</td>\n",
       "      <td>5 Seans</td>\n",
       "      <td>Ayak Bileği</td>\n",
       "      <td>20 Dakika</td>\n",
       "    </tr>\n",
       "    <tr>\n",
       "      <th>1</th>\n",
       "      <td>145135</td>\n",
       "      <td>28</td>\n",
       "      <td>Erkek</td>\n",
       "      <td>0 Rh+</td>\n",
       "      <td>Türkiye</td>\n",
       "      <td>Duchenne Musküler Distrofisi, Myastenia gravis...</td>\n",
       "      <td>Fiziksel Tıp Ve Rehabilitasyon,Solunum Merkezi</td>\n",
       "      <td>NaN</td>\n",
       "      <td>Omuzun darbe sendromu,DORSALJİ, DİĞER, SERVİKO...</td>\n",
       "      <td>Dorsalji -Boyun+trapez+skapular</td>\n",
       "      <td>15 Seans</td>\n",
       "      <td>Boyun</td>\n",
       "      <td>20 Dakika</td>\n",
       "    </tr>\n",
       "    <tr>\n",
       "      <th>2</th>\n",
       "      <td>145135</td>\n",
       "      <td>28</td>\n",
       "      <td>Erkek</td>\n",
       "      <td>0 Rh+</td>\n",
       "      <td>Türkiye</td>\n",
       "      <td>Duchenne Musküler Distrofisi, Myastenia gravis...</td>\n",
       "      <td>Fiziksel Tıp Ve Rehabilitasyon,Solunum Merkezi</td>\n",
       "      <td>NaN</td>\n",
       "      <td>Omuzun darbe sendromu,DORSALJİ, DİĞER, SERVİKO...</td>\n",
       "      <td>Dorsalji -Boyun+trapez+skapular</td>\n",
       "      <td>15 Seans</td>\n",
       "      <td>Boyun,Sırt</td>\n",
       "      <td>20 Dakika</td>\n",
       "    </tr>\n",
       "    <tr>\n",
       "      <th>3</th>\n",
       "      <td>145135</td>\n",
       "      <td>28</td>\n",
       "      <td>Erkek</td>\n",
       "      <td>0 Rh+</td>\n",
       "      <td>Türkiye</td>\n",
       "      <td>Duchenne Musküler Distrofisi, Myastenia gravis...</td>\n",
       "      <td>Fiziksel Tıp Ve Rehabilitasyon,Solunum Merkezi</td>\n",
       "      <td>NaN</td>\n",
       "      <td>Omuzun darbe sendromu,DORSALJİ, DİĞER, SERVİKO...</td>\n",
       "      <td>Dorsalji -Boyun+trapez+skapular</td>\n",
       "      <td>15 Seans</td>\n",
       "      <td>Boyun</td>\n",
       "      <td>5 Dakika</td>\n",
       "    </tr>\n",
       "    <tr>\n",
       "      <th>4</th>\n",
       "      <td>145135</td>\n",
       "      <td>28</td>\n",
       "      <td>Erkek</td>\n",
       "      <td>0 Rh+</td>\n",
       "      <td>Türkiye</td>\n",
       "      <td>Duchenne Musküler Distrofisi, Myastenia gravis...</td>\n",
       "      <td>Fiziksel Tıp Ve Rehabilitasyon,Solunum Merkezi</td>\n",
       "      <td>NaN</td>\n",
       "      <td>Omuzun darbe sendromu,DORSALJİ, DİĞER, SERVİKO...</td>\n",
       "      <td>Dorsalji -Boyun+trapez+skapular</td>\n",
       "      <td>15 Seans</td>\n",
       "      <td>Boyun,Sırt</td>\n",
       "      <td>20 Dakika</td>\n",
       "    </tr>\n",
       "  </tbody>\n",
       "</table>\n",
       "</div>"
      ],
      "text/plain": [
       "   HastaNo  Yas Cinsiyet KanGrubu    Uyruk  \\\n",
       "0   145134   60    Kadın    0 Rh+  Türkiye   \n",
       "1   145135   28    Erkek    0 Rh+  Türkiye   \n",
       "2   145135   28    Erkek    0 Rh+  Türkiye   \n",
       "3   145135   28    Erkek    0 Rh+  Türkiye   \n",
       "4   145135   28    Erkek    0 Rh+  Türkiye   \n",
       "\n",
       "                                      KronikHastalik  \\\n",
       "0  Becker Musküler Distrofisi, Hiportiroidizm, Ka...   \n",
       "1  Duchenne Musküler Distrofisi, Myastenia gravis...   \n",
       "2  Duchenne Musküler Distrofisi, Myastenia gravis...   \n",
       "3  Duchenne Musküler Distrofisi, Myastenia gravis...   \n",
       "4  Duchenne Musküler Distrofisi, Myastenia gravis...   \n",
       "\n",
       "                                            Bolum Alerji  \\\n",
       "0  Fiziksel Tıp Ve Rehabilitasyon,Solunum Merkezi    TOZ   \n",
       "1  Fiziksel Tıp Ve Rehabilitasyon,Solunum Merkezi    NaN   \n",
       "2  Fiziksel Tıp Ve Rehabilitasyon,Solunum Merkezi    NaN   \n",
       "3  Fiziksel Tıp Ve Rehabilitasyon,Solunum Merkezi    NaN   \n",
       "4  Fiziksel Tıp Ve Rehabilitasyon,Solunum Merkezi    NaN   \n",
       "\n",
       "                                             Tanilar  \\\n",
       "0         Ayak bileği ve ayağın yüzeysel yaralanması   \n",
       "1  Omuzun darbe sendromu,DORSALJİ, DİĞER, SERVİKO...   \n",
       "2  Omuzun darbe sendromu,DORSALJİ, DİĞER, SERVİKO...   \n",
       "3  Omuzun darbe sendromu,DORSALJİ, DİĞER, SERVİKO...   \n",
       "4  Omuzun darbe sendromu,DORSALJİ, DİĞER, SERVİKO...   \n",
       "\n",
       "                         TedaviAdi TedaviSuresi UygulamaYerleri UygulamaSuresi  \n",
       "0                      Ayak Bileği      5 Seans     Ayak Bileği      20 Dakika  \n",
       "1  Dorsalji -Boyun+trapez+skapular     15 Seans           Boyun      20 Dakika  \n",
       "2  Dorsalji -Boyun+trapez+skapular     15 Seans      Boyun,Sırt      20 Dakika  \n",
       "3  Dorsalji -Boyun+trapez+skapular     15 Seans           Boyun       5 Dakika  \n",
       "4  Dorsalji -Boyun+trapez+skapular     15 Seans      Boyun,Sırt      20 Dakika  "
      ]
     },
     "execution_count": 5,
     "metadata": {},
     "output_type": "execute_result"
    }
   ],
   "source": [
    "df.head()"
   ]
  },
  {
   "cell_type": "code",
   "execution_count": 6,
   "metadata": {},
   "outputs": [
    {
     "data": {
      "text/html": [
       "<div>\n",
       "<style scoped>\n",
       "    .dataframe tbody tr th:only-of-type {\n",
       "        vertical-align: middle;\n",
       "    }\n",
       "\n",
       "    .dataframe tbody tr th {\n",
       "        vertical-align: top;\n",
       "    }\n",
       "\n",
       "    .dataframe thead th {\n",
       "        text-align: right;\n",
       "    }\n",
       "</style>\n",
       "<table border=\"1\" class=\"dataframe\">\n",
       "  <thead>\n",
       "    <tr style=\"text-align: right;\">\n",
       "      <th></th>\n",
       "      <th>HastaNo</th>\n",
       "      <th>Yas</th>\n",
       "      <th>Cinsiyet</th>\n",
       "      <th>KanGrubu</th>\n",
       "      <th>Uyruk</th>\n",
       "      <th>KronikHastalik</th>\n",
       "      <th>Bolum</th>\n",
       "      <th>Alerji</th>\n",
       "      <th>Tanilar</th>\n",
       "      <th>TedaviAdi</th>\n",
       "      <th>TedaviSuresi</th>\n",
       "      <th>UygulamaYerleri</th>\n",
       "      <th>UygulamaSuresi</th>\n",
       "    </tr>\n",
       "  </thead>\n",
       "  <tbody>\n",
       "    <tr>\n",
       "      <th>count</th>\n",
       "      <td>2235.000000</td>\n",
       "      <td>2235.000000</td>\n",
       "      <td>2066</td>\n",
       "      <td>1560</td>\n",
       "      <td>2235</td>\n",
       "      <td>1624</td>\n",
       "      <td>2224</td>\n",
       "      <td>1291</td>\n",
       "      <td>2160</td>\n",
       "      <td>2235</td>\n",
       "      <td>2235</td>\n",
       "      <td>2014</td>\n",
       "      <td>2235</td>\n",
       "    </tr>\n",
       "    <tr>\n",
       "      <th>unique</th>\n",
       "      <td>NaN</td>\n",
       "      <td>NaN</td>\n",
       "      <td>2</td>\n",
       "      <td>8</td>\n",
       "      <td>5</td>\n",
       "      <td>220</td>\n",
       "      <td>10</td>\n",
       "      <td>38</td>\n",
       "      <td>367</td>\n",
       "      <td>244</td>\n",
       "      <td>23</td>\n",
       "      <td>37</td>\n",
       "      <td>10</td>\n",
       "    </tr>\n",
       "    <tr>\n",
       "      <th>top</th>\n",
       "      <td>NaN</td>\n",
       "      <td>NaN</td>\n",
       "      <td>Kadın</td>\n",
       "      <td>0 Rh+</td>\n",
       "      <td>Türkiye</td>\n",
       "      <td>Myastenia gravis</td>\n",
       "      <td>Fiziksel Tıp Ve Rehabilitasyon,Solunum Merkezi</td>\n",
       "      <td>Polen</td>\n",
       "      <td>DORSALJİ, DİĞER, LUMBOSAKRAL BÖLGE</td>\n",
       "      <td>Dorsalji -Boyun+trapez</td>\n",
       "      <td>15 Seans</td>\n",
       "      <td>Bel</td>\n",
       "      <td>20 Dakika</td>\n",
       "    </tr>\n",
       "    <tr>\n",
       "      <th>freq</th>\n",
       "      <td>NaN</td>\n",
       "      <td>NaN</td>\n",
       "      <td>1274</td>\n",
       "      <td>579</td>\n",
       "      <td>2173</td>\n",
       "      <td>38</td>\n",
       "      <td>2045</td>\n",
       "      <td>198</td>\n",
       "      <td>149</td>\n",
       "      <td>231</td>\n",
       "      <td>1670</td>\n",
       "      <td>528</td>\n",
       "      <td>1535</td>\n",
       "    </tr>\n",
       "    <tr>\n",
       "      <th>mean</th>\n",
       "      <td>145333.100224</td>\n",
       "      <td>47.327069</td>\n",
       "      <td>NaN</td>\n",
       "      <td>NaN</td>\n",
       "      <td>NaN</td>\n",
       "      <td>NaN</td>\n",
       "      <td>NaN</td>\n",
       "      <td>NaN</td>\n",
       "      <td>NaN</td>\n",
       "      <td>NaN</td>\n",
       "      <td>NaN</td>\n",
       "      <td>NaN</td>\n",
       "      <td>NaN</td>\n",
       "    </tr>\n",
       "    <tr>\n",
       "      <th>std</th>\n",
       "      <td>115.214248</td>\n",
       "      <td>15.208634</td>\n",
       "      <td>NaN</td>\n",
       "      <td>NaN</td>\n",
       "      <td>NaN</td>\n",
       "      <td>NaN</td>\n",
       "      <td>NaN</td>\n",
       "      <td>NaN</td>\n",
       "      <td>NaN</td>\n",
       "      <td>NaN</td>\n",
       "      <td>NaN</td>\n",
       "      <td>NaN</td>\n",
       "      <td>NaN</td>\n",
       "    </tr>\n",
       "    <tr>\n",
       "      <th>min</th>\n",
       "      <td>145134.000000</td>\n",
       "      <td>2.000000</td>\n",
       "      <td>NaN</td>\n",
       "      <td>NaN</td>\n",
       "      <td>NaN</td>\n",
       "      <td>NaN</td>\n",
       "      <td>NaN</td>\n",
       "      <td>NaN</td>\n",
       "      <td>NaN</td>\n",
       "      <td>NaN</td>\n",
       "      <td>NaN</td>\n",
       "      <td>NaN</td>\n",
       "      <td>NaN</td>\n",
       "    </tr>\n",
       "    <tr>\n",
       "      <th>25%</th>\n",
       "      <td>145235.000000</td>\n",
       "      <td>38.000000</td>\n",
       "      <td>NaN</td>\n",
       "      <td>NaN</td>\n",
       "      <td>NaN</td>\n",
       "      <td>NaN</td>\n",
       "      <td>NaN</td>\n",
       "      <td>NaN</td>\n",
       "      <td>NaN</td>\n",
       "      <td>NaN</td>\n",
       "      <td>NaN</td>\n",
       "      <td>NaN</td>\n",
       "      <td>NaN</td>\n",
       "    </tr>\n",
       "    <tr>\n",
       "      <th>50%</th>\n",
       "      <td>145331.000000</td>\n",
       "      <td>46.000000</td>\n",
       "      <td>NaN</td>\n",
       "      <td>NaN</td>\n",
       "      <td>NaN</td>\n",
       "      <td>NaN</td>\n",
       "      <td>NaN</td>\n",
       "      <td>NaN</td>\n",
       "      <td>NaN</td>\n",
       "      <td>NaN</td>\n",
       "      <td>NaN</td>\n",
       "      <td>NaN</td>\n",
       "      <td>NaN</td>\n",
       "    </tr>\n",
       "    <tr>\n",
       "      <th>75%</th>\n",
       "      <td>145432.000000</td>\n",
       "      <td>56.000000</td>\n",
       "      <td>NaN</td>\n",
       "      <td>NaN</td>\n",
       "      <td>NaN</td>\n",
       "      <td>NaN</td>\n",
       "      <td>NaN</td>\n",
       "      <td>NaN</td>\n",
       "      <td>NaN</td>\n",
       "      <td>NaN</td>\n",
       "      <td>NaN</td>\n",
       "      <td>NaN</td>\n",
       "      <td>NaN</td>\n",
       "    </tr>\n",
       "    <tr>\n",
       "      <th>max</th>\n",
       "      <td>145537.000000</td>\n",
       "      <td>92.000000</td>\n",
       "      <td>NaN</td>\n",
       "      <td>NaN</td>\n",
       "      <td>NaN</td>\n",
       "      <td>NaN</td>\n",
       "      <td>NaN</td>\n",
       "      <td>NaN</td>\n",
       "      <td>NaN</td>\n",
       "      <td>NaN</td>\n",
       "      <td>NaN</td>\n",
       "      <td>NaN</td>\n",
       "      <td>NaN</td>\n",
       "    </tr>\n",
       "  </tbody>\n",
       "</table>\n",
       "</div>"
      ],
      "text/plain": [
       "              HastaNo          Yas Cinsiyet KanGrubu    Uyruk  \\\n",
       "count     2235.000000  2235.000000     2066     1560     2235   \n",
       "unique            NaN          NaN        2        8        5   \n",
       "top               NaN          NaN    Kadın    0 Rh+  Türkiye   \n",
       "freq              NaN          NaN     1274      579     2173   \n",
       "mean    145333.100224    47.327069      NaN      NaN      NaN   \n",
       "std        115.214248    15.208634      NaN      NaN      NaN   \n",
       "min     145134.000000     2.000000      NaN      NaN      NaN   \n",
       "25%     145235.000000    38.000000      NaN      NaN      NaN   \n",
       "50%     145331.000000    46.000000      NaN      NaN      NaN   \n",
       "75%     145432.000000    56.000000      NaN      NaN      NaN   \n",
       "max     145537.000000    92.000000      NaN      NaN      NaN   \n",
       "\n",
       "          KronikHastalik                                           Bolum  \\\n",
       "count               1624                                            2224   \n",
       "unique               220                                              10   \n",
       "top     Myastenia gravis  Fiziksel Tıp Ve Rehabilitasyon,Solunum Merkezi   \n",
       "freq                  38                                            2045   \n",
       "mean                 NaN                                             NaN   \n",
       "std                  NaN                                             NaN   \n",
       "min                  NaN                                             NaN   \n",
       "25%                  NaN                                             NaN   \n",
       "50%                  NaN                                             NaN   \n",
       "75%                  NaN                                             NaN   \n",
       "max                  NaN                                             NaN   \n",
       "\n",
       "       Alerji                             Tanilar               TedaviAdi  \\\n",
       "count    1291                                2160                    2235   \n",
       "unique     38                                 367                     244   \n",
       "top     Polen  DORSALJİ, DİĞER, LUMBOSAKRAL BÖLGE  Dorsalji -Boyun+trapez   \n",
       "freq      198                                 149                     231   \n",
       "mean      NaN                                 NaN                     NaN   \n",
       "std       NaN                                 NaN                     NaN   \n",
       "min       NaN                                 NaN                     NaN   \n",
       "25%       NaN                                 NaN                     NaN   \n",
       "50%       NaN                                 NaN                     NaN   \n",
       "75%       NaN                                 NaN                     NaN   \n",
       "max       NaN                                 NaN                     NaN   \n",
       "\n",
       "       TedaviSuresi UygulamaYerleri UygulamaSuresi  \n",
       "count          2235            2014           2235  \n",
       "unique           23              37             10  \n",
       "top        15 Seans             Bel      20 Dakika  \n",
       "freq           1670             528           1535  \n",
       "mean            NaN             NaN            NaN  \n",
       "std             NaN             NaN            NaN  \n",
       "min             NaN             NaN            NaN  \n",
       "25%             NaN             NaN            NaN  \n",
       "50%             NaN             NaN            NaN  \n",
       "75%             NaN             NaN            NaN  \n",
       "max             NaN             NaN            NaN  "
      ]
     },
     "execution_count": 6,
     "metadata": {},
     "output_type": "execute_result"
    }
   ],
   "source": [
    "df.describe(include=\"all\")"
   ]
  },
  {
   "cell_type": "code",
   "execution_count": 8,
   "metadata": {},
   "outputs": [
    {
     "data": {
      "text/plain": [
       "HastaNo              0\n",
       "Yas                  0\n",
       "Cinsiyet           169\n",
       "KanGrubu           675\n",
       "Uyruk                0\n",
       "KronikHastalik     611\n",
       "Bolum               11\n",
       "Alerji             944\n",
       "Tanilar             75\n",
       "TedaviAdi            0\n",
       "TedaviSuresi         0\n",
       "UygulamaYerleri    221\n",
       "UygulamaSuresi       0\n",
       "dtype: int64"
      ]
     },
     "execution_count": 8,
     "metadata": {},
     "output_type": "execute_result"
    }
   ],
   "source": [
    "df.isna().sum()"
   ]
  },
  {
   "cell_type": "code",
   "execution_count": 9,
   "metadata": {},
   "outputs": [
    {
     "name": "stdout",
     "output_type": "stream",
     "text": [
      "\n",
      "Target Örnek Değerler ['5 Seans' '15 Seans' '10 Seans' '18 Seans' '20 Seans' '2 Seans' '6 Seans'\n",
      " '4 Seans' '30 Seans' '11 Seans']\n"
     ]
    }
   ],
   "source": [
    "print(\"\\nTarget Örnek Değerler\",df[\"TedaviSuresi\"].unique()[:10])"
   ]
  },
  {
   "cell_type": "code",
   "execution_count": 10,
   "metadata": {},
   "outputs": [],
   "source": [
    "df[\"TedaviSuresi_num\"] = df[\"TedaviSuresi\"].astype(str).str.extract(r\"(\\d+)\").astype(float)"
   ]
  },
  {
   "cell_type": "code",
   "execution_count": 13,
   "metadata": {},
   "outputs": [
    {
     "name": "stdout",
     "output_type": "stream",
     "text": [
      "<class 'pandas.core.frame.DataFrame'>\n",
      "RangeIndex: 2235 entries, 0 to 2234\n",
      "Data columns (total 14 columns):\n",
      " #   Column            Non-Null Count  Dtype  \n",
      "---  ------            --------------  -----  \n",
      " 0   HastaNo           2235 non-null   int64  \n",
      " 1   Yas               2235 non-null   int64  \n",
      " 2   Cinsiyet          2066 non-null   object \n",
      " 3   KanGrubu          1560 non-null   object \n",
      " 4   Uyruk             2235 non-null   object \n",
      " 5   KronikHastalik    1624 non-null   object \n",
      " 6   Bolum             2224 non-null   object \n",
      " 7   Alerji            1291 non-null   object \n",
      " 8   Tanilar           2160 non-null   object \n",
      " 9   TedaviAdi         2235 non-null   object \n",
      " 10  TedaviSuresi      2235 non-null   object \n",
      " 11  UygulamaYerleri   2014 non-null   object \n",
      " 12  UygulamaSuresi    2235 non-null   object \n",
      " 13  TedaviSuresi_num  2235 non-null   float64\n",
      "dtypes: float64(1), int64(2), object(11)\n",
      "memory usage: 244.6+ KB\n"
     ]
    }
   ],
   "source": [
    "df.info()"
   ]
  },
  {
   "cell_type": "code",
   "execution_count": 15,
   "metadata": {},
   "outputs": [],
   "source": [
    "def count_items(x):\n",
    "    if pd.isna(x) or str(x).strip() ==\"\":\n",
    "        return 0\n",
    "    return len([t for t in str(x).split(\",\") if t.strip()!=\"\"])\n",
    "\n",
    "for col in [\"KronikHastalik\",\"Tanilar\",\"Alerji\"]:\n",
    "    if col in df.columns:\n",
    "        df[col + \"_count\"] = df[col].apply(count_items)"
   ]
  },
  {
   "cell_type": "code",
   "execution_count": 16,
   "metadata": {},
   "outputs": [
    {
     "data": {
      "image/png": "[encoded data removed]",
      "text/plain": [
       "<Figure size 600x400 with 1 Axes>"
      ]
     },
     "metadata": {},
     "output_type": "display_data"
    }
   ],
   "source": [
    "plt.figure(figsize=(6,4))\n",
    "sns.histplot(df[\"TedaviSuresi_num\"],bins=20,kde=False)\n",
    "plt.title(\"Tedavi Süresi (seans) dağılımı\")\n",
    "plt.xlabel(\"Seans\")\n",
    "plt.ylabel(\"Frekans\")\n",
    "plt.show()"
   ]
  },
  {
   "cell_type": "code",
   "execution_count": 19,
   "metadata": {},
   "outputs": [
    {
     "data": {
      "image/png": "[encoded data removed]",
      "text/plain": [
       "<Figure size 600x300 with 1 Axes>"
      ]
     },
     "metadata": {},
     "output_type": "display_data"
    },
    {
     "data": {
      "image/png": "[encoded data removed]",
      "text/plain": [
       "<Figure size 600x300 with 1 Axes>"
      ]
     },
     "metadata": {},
     "output_type": "display_data"
    },
    {
     "data": {
      "image/png": "[encoded data removed]",
      "text/plain": [
       "<Figure size 600x300 with 1 Axes>"
      ]
     },
     "metadata": {},
     "output_type": "display_data"
    },
    {
     "data": {
      "image/png": "[encoded data removed]",
      "text/plain": [
       "<Figure size 600x300 with 1 Axes>"
      ]
     },
     "metadata": {},
     "output_type": "display_data"
    }
   ],
   "source": [
    "num_cols = [\"Yas\",\"UygulamaSuresi_num\"] + [c for c in df.columns if c.endswith(\"_count\")]\n",
    "for col in num_cols:\n",
    "    if col in df.columns:\n",
    "        plt.figure(figsize=(6,3))\n",
    "        sns.boxplot(x=df[col])\n",
    "        plt.title(f\"{col} dağılımı\")\n",
    "        plt.show()"
   ]
  },
  {
   "cell_type": "code",
   "execution_count": null,
   "metadata": {},
   "outputs": [
    {
     "ename": "KeyError",
     "evalue": "\"['UygulamaSuresi_num'] not in index\"",
     "output_type": "error",
     "traceback": [
      "\u001b[1;31m---------------------------------------------------------------------------\u001b[0m",
      "\u001b[1;31mKeyError\u001b[0m                                  Traceback (most recent call last)",
      "Cell \u001b[1;32mIn[20], line 2\u001b[0m\n\u001b[0;32m      1\u001b[0m plt\u001b[38;5;241m.\u001b[39mfigure(figsize\u001b[38;5;241m=\u001b[39m(\u001b[38;5;241m8\u001b[39m,\u001b[38;5;241m6\u001b[39m))\n\u001b[1;32m----> 2\u001b[0m sns\u001b[38;5;241m.\u001b[39mheatmap(df[num_cols \u001b[38;5;241m+\u001b[39m [\u001b[38;5;124m\"\u001b[39m\u001b[38;5;124mTedaviSuresi_num\u001b[39m\u001b[38;5;124m\"\u001b[39m]]\u001b[38;5;241m.\u001b[39mcorr(),annot\u001b[38;5;241m=\u001b[39m\u001b[38;5;28;01mTrue\u001b[39;00m,cmap\u001b[38;5;241m=\u001b[39m\u001b[38;5;124m\"\u001b[39m\u001b[38;5;124mcoolwarm\u001b[39m\u001b[38;5;124m\"\u001b[39m)\n\u001b[0;32m      3\u001b[0m plt\u001b[38;5;241m.\u001b[39mtitle(\u001b[38;5;124m\"\u001b[39m\u001b[38;5;124mKorelaston Matrisi\u001b[39m\u001b[38;5;124m\"\u001b[39m)\n\u001b[0;32m      4\u001b[0m plt\u001b[38;5;241m.\u001b[39mshow()\n",
      "File \u001b[1;32mc:\\Users\\Burak Bora Sayar\\anaconda3\\Lib\\site-packages\\pandas\\core\\frame.py:4108\u001b[0m, in \u001b[0;36mDataFrame.__getitem__\u001b[1;34m(self, key)\u001b[0m\n\u001b[0;32m   4106\u001b[0m     \u001b[38;5;28;01mif\u001b[39;00m is_iterator(key):\n\u001b[0;32m   4107\u001b[0m         key \u001b[38;5;241m=\u001b[39m \u001b[38;5;28mlist\u001b[39m(key)\n\u001b[1;32m-> 4108\u001b[0m     indexer \u001b[38;5;241m=\u001b[39m \u001b[38;5;28mself\u001b[39m\u001b[38;5;241m.\u001b[39mcolumns\u001b[38;5;241m.\u001b[39m_get_indexer_strict(key, \u001b[38;5;124m\"\u001b[39m\u001b[38;5;124mcolumns\u001b[39m\u001b[38;5;124m\"\u001b[39m)[\u001b[38;5;241m1\u001b[39m]\n\u001b[0;32m   4110\u001b[0m \u001b[38;5;66;03m# take() does not accept boolean indexers\u001b[39;00m\n\u001b[0;32m   4111\u001b[0m \u001b[38;5;28;01mif\u001b[39;00m \u001b[38;5;28mgetattr\u001b[39m(indexer, \u001b[38;5;124m\"\u001b[39m\u001b[38;5;124mdtype\u001b[39m\u001b[38;5;124m\"\u001b[39m, \u001b[38;5;28;01mNone\u001b[39;00m) \u001b[38;5;241m==\u001b[39m \u001b[38;5;28mbool\u001b[39m:\n",
      "File \u001b[1;32mc:\\Users\\Burak Bora Sayar\\anaconda3\\Lib\\site-packages\\pandas\\core\\indexes\\base.py:6200\u001b[0m, in \u001b[0;36mIndex._get_indexer_strict\u001b[1;34m(self, key, axis_name)\u001b[0m\n\u001b[0;32m   6197\u001b[0m \u001b[38;5;28;01melse\u001b[39;00m:\n\u001b[0;32m   6198\u001b[0m     keyarr, indexer, new_indexer \u001b[38;5;241m=\u001b[39m \u001b[38;5;28mself\u001b[39m\u001b[38;5;241m.\u001b[39m_reindex_non_unique(keyarr)\n\u001b[1;32m-> 6200\u001b[0m \u001b[38;5;28mself\u001b[39m\u001b[38;5;241m.\u001b[39m_raise_if_missing(keyarr, indexer, axis_name)\n\u001b[0;32m   6202\u001b[0m keyarr \u001b[38;5;241m=\u001b[39m \u001b[38;5;28mself\u001b[39m\u001b[38;5;241m.\u001b[39mtake(indexer)\n\u001b[0;32m   6203\u001b[0m \u001b[38;5;28;01mif\u001b[39;00m \u001b[38;5;28misinstance\u001b[39m(key, Index):\n\u001b[0;32m   6204\u001b[0m     \u001b[38;5;66;03m# GH 42790 - Preserve name from an Index\u001b[39;00m\n",
      "File \u001b[1;32mc:\\Users\\Burak Bora Sayar\\anaconda3\\Lib\\site-packages\\pandas\\core\\indexes\\base.py:6252\u001b[0m, in \u001b[0;36mIndex._raise_if_missing\u001b[1;34m(self, key, indexer, axis_name)\u001b[0m\n\u001b[0;32m   6249\u001b[0m     \u001b[38;5;28;01mraise\u001b[39;00m \u001b[38;5;167;01mKeyError\u001b[39;00m(\u001b[38;5;124mf\u001b[39m\u001b[38;5;124m\"\u001b[39m\u001b[38;5;124mNone of [\u001b[39m\u001b[38;5;132;01m{\u001b[39;00mkey\u001b[38;5;132;01m}\u001b[39;00m\u001b[38;5;124m] are in the [\u001b[39m\u001b[38;5;132;01m{\u001b[39;00maxis_name\u001b[38;5;132;01m}\u001b[39;00m\u001b[38;5;124m]\u001b[39m\u001b[38;5;124m\"\u001b[39m)\n\u001b[0;32m   6251\u001b[0m not_found \u001b[38;5;241m=\u001b[39m \u001b[38;5;28mlist\u001b[39m(ensure_index(key)[missing_mask\u001b[38;5;241m.\u001b[39mnonzero()[\u001b[38;5;241m0\u001b[39m]]\u001b[38;5;241m.\u001b[39munique())\n\u001b[1;32m-> 6252\u001b[0m \u001b[38;5;28;01mraise\u001b[39;00m \u001b[38;5;167;01mKeyError\u001b[39;00m(\u001b[38;5;124mf\u001b[39m\u001b[38;5;124m\"\u001b[39m\u001b[38;5;132;01m{\u001b[39;00mnot_found\u001b[38;5;132;01m}\u001b[39;00m\u001b[38;5;124m not in index\u001b[39m\u001b[38;5;124m\"\u001b[39m)\n",
      "\u001b[1;31mKeyError\u001b[0m: \"['UygulamaSuresi_num'] not in index\""
     ]
    },
    {
     "data": {
      "text/plain": [
       "<Figure size 800x600 with 0 Axes>"
      ]
     },
     "metadata": {},
     "output_type": "display_data"
    }
   ],
   "source": [
    "plt.figure(figsize=(8,6))\n",
    "sns.heatmap(df[num_cols + [\"TedaviSuresi_num\"]].corr(), annot=True, cmap=\"coolwarm\")\n",
    "plt.title(\"Korelasyon Matrisi\")\n",
    "plt.show()"
   ]
  },
  {
   "cell_type": "code",
   "execution_count": null,
   "metadata": {},
   "outputs": [],
   "source": []
  }
 ],
 "metadata": {
  "kernelspec": {
   "display_name": "base",
   "language": "python",
   "name": "python3"
  },
  "language_info": {
   "codemirror_mode": {
    "name": "ipython",
    "version": 3
   },
   "file_extension": ".py",
   "mimetype": "text/x-python",
   "name": "python",
   "nbconvert_exporter": "python",
   "pygments_lexer": "ipython3",
   "version": "3.12.7"
  }
 },
 "nbformat": 4,
 "nbformat_minor": 2
}
